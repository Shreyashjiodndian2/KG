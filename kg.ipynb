{
 "cells": [
  {
   "cell_type": "code",
   "execution_count": 1,
   "metadata": {},
   "outputs": [
    {
     "name": "stderr",
     "output_type": "stream",
     "text": [
      "/home/rootdaenib/anaconda3/envs/test/lib/python3.9/site-packages/tqdm/auto.py:22: TqdmWarning: IProgress not found. Please update jupyter and ipywidgets. See https://ipywidgets.readthedocs.io/en/stable/user_install.html\n",
      "  from .autonotebook import tqdm as notebook_tqdm\n"
     ]
    }
   ],
   "source": [
    "from torchkge.data_structures import SmallKG, KnowledgeGraph\n",
    "from torchkge.models.bilinear import ComplExModel\n",
    "import pandas as pd"
   ]
  },
  {
   "cell_type": "code",
   "execution_count": 2,
   "metadata": {},
   "outputs": [],
   "source": [
    "data = pd.read_csv('./kg.csv')"
   ]
  },
  {
   "cell_type": "markdown",
   "metadata": {},
   "source": [
    "torchSmallKG = SmallKG(data['head'], data['tail'], data['type'])"
   ]
  },
  {
   "cell_type": "code",
   "execution_count": 3,
   "metadata": {},
   "outputs": [
    {
     "name": "stdout",
     "output_type": "stream",
     "text": [
      "Index(['from', 'rel', 'to'], dtype='object')\n"
     ]
    }
   ],
   "source": [
    "tempData = data.rename(columns={'head':'from', 'tail':'to', 'type':'rel'})\n",
    "print(tempData.columns)\n",
    "torchKG = KnowledgeGraph(df=tempData)"
   ]
  },
  {
   "cell_type": "code",
   "execution_count": 4,
   "metadata": {},
   "outputs": [],
   "source": [
    "# complexModel = ComplExModel(emb_dim=100, n_entities=len(\n",
    "    # set(torchKG.head_idx + torchSmallKG.tail_idx)), n_relations=len(set(torchSmallKG.relations)))\n",
    "complexModelKG = ComplExModel(emb_dim=100, n_entities=torchKG.n_ent, n_relations=torchKG.n_rel)\n"
   ]
  },
  {
   "cell_type": "markdown",
   "metadata": {},
   "source": [
    "complexModel.cuda()"
   ]
  },
  {
   "cell_type": "code",
   "execution_count": 5,
   "metadata": {},
   "outputs": [
    {
     "data": {
      "text/plain": [
       "ComplExModel(\n",
       "  (re_ent_emb): Embedding(286, 100)\n",
       "  (im_ent_emb): Embedding(286, 100)\n",
       "  (re_rel_emb): Embedding(60, 100)\n",
       "  (im_rel_emb): Embedding(60, 100)\n",
       ")"
      ]
     },
     "execution_count": 5,
     "metadata": {},
     "output_type": "execute_result"
    }
   ],
   "source": [
    "complexModelKG.train(True)"
   ]
  },
  {
   "cell_type": "code",
   "execution_count": 6,
   "metadata": {},
   "outputs": [],
   "source": [
    "from torchkge.utils import MarginLoss\n",
    "from torch import cuda\n",
    "criteria = MarginLoss(margin=1.0)"
   ]
  },
  {
   "cell_type": "code",
   "execution_count": 7,
   "metadata": {},
   "outputs": [],
   "source": [
    "# if cuda.is_available():\n",
    "#     cuda.empty_cache()\n",
    "#     complexModelKG.cuda()\n",
    "#     criteria.cuda()"
   ]
  },
  {
   "cell_type": "code",
   "execution_count": 8,
   "metadata": {},
   "outputs": [],
   "source": [
    "import torch\n",
    "from torch.optim import Adam\n",
    "optimizer = Adam(complexModelKG.parameters(), lr=0.001)"
   ]
  },
  {
   "cell_type": "code",
   "execution_count": 9,
   "metadata": {},
   "outputs": [
    {
     "name": "stderr",
     "output_type": "stream",
     "text": [
      "Epoch 999, loss 0.06854: 100%|██████████| 1000/1000 [01:33<00:00, 10.73epoch/s]\n"
     ]
    }
   ],
   "source": [
    "from torchkge.sampling import BernoulliNegativeSampler\n",
    "from torchkge.utils import DataLoader\n",
    "from tqdm.autonotebook import tqdm\n",
    "# torchKG = KnowledgeGraph(df=tempData).to('cuda')\n",
    "sampler = BernoulliNegativeSampler(torchKG)\n",
    "dataloader = DataLoader(torchKG, batch_size=10)\n",
    "iterator = tqdm(range(1000), unit='epoch')\n",
    "for epoch in iterator:\n",
    "    runningLoss = 0.0\n",
    "    for batch in dataloader:\n",
    "        head, tail, relation = batch[0], batch[1], batch[2]\n",
    "        # print(head.device, tail.device, relation.device, dataloader.use_cuda)\n",
    "        numHead, numTail = sampler.corrupt_batch(head, tail, relation)\n",
    "        optimizer.zero_grad()\n",
    "        pos, neg = complexModelKG(head, tail, relation, numHead, numTail)\n",
    "        loss = criteria(pos, neg)\n",
    "        loss.backward()\n",
    "        optimizer.step()\n",
    "        runningLoss += loss.item()\n",
    "    iterator.set_description('Epoch %d, loss %.5f' % (epoch, runningLoss/len(dataloader)))\n",
    "    "
   ]
  },
  {
   "cell_type": "code",
   "execution_count": 17,
   "metadata": {},
   "outputs": [],
   "source": [
    "from torchkge.models.deep import ConvKBModel"
   ]
  },
  {
   "cell_type": "code",
   "execution_count": 26,
   "metadata": {},
   "outputs": [],
   "source": [
    "convModel = ConvKBModel(emb_dim=100, n_filters=4,n_entities=torchKG.n_ent, n_relations=torchKG.n_rel)"
   ]
  },
  {
   "cell_type": "code",
   "execution_count": 37,
   "metadata": {},
   "outputs": [],
   "source": [
    "import torch\n",
    "from torch.optim import Adam\n",
    "optimizer = Adam(convModel.parameters(), lr=0.0001, amsgrad=True, weight_decay=0.000001)\n"
   ]
  },
  {
   "cell_type": "code",
   "execution_count": 38,
   "metadata": {},
   "outputs": [
    {
     "name": "stderr",
     "output_type": "stream",
     "text": [
      "Epoch 99999, loss 4.93107: 100%|██████████| 100000/100000 [1:34:29<00:00, 17.64epoch/s]\n"
     ]
    }
   ],
   "source": [
    "from torchkge.sampling import BernoulliNegativeSampler\n",
    "from torchkge.utils import DataLoader\n",
    "from tqdm.autonotebook import tqdm\n",
    "# torchKG = KnowledgeGraph(df=tempData).to('cuda')\n",
    "sampler = BernoulliNegativeSampler(torchKG)\n",
    "dataloader = DataLoader(torchKG, batch_size=20)\n",
    "iterator = tqdm(range(100000), unit='epoch')\n",
    "for epoch in iterator:\n",
    "    runningLoss = 0.0\n",
    "    for batch in dataloader:\n",
    "        head, tail, relation = batch[0], batch[1], batch[2]\n",
    "        # print(head.device, tail.device, relation.device, dataloader.use_cuda)\n",
    "        numHead, numTail = sampler.corrupt_batch(head, tail, relation)\n",
    "        optimizer.zero_grad()\n",
    "        pos, neg = convModel(head, tail, relation, numHead, numTail)\n",
    "        loss = criteria(pos, neg)\n",
    "        loss.backward()\n",
    "        optimizer.step()\n",
    "        runningLoss += loss.item()\n",
    "    iterator.set_description('Epoch %d, loss %.5f' %\n",
    "                             (epoch, runningLoss/len(dataloader)))\n"
   ]
  },
  {
   "cell_type": "code",
   "execution_count": null,
   "metadata": {},
   "outputs": [],
   "source": []
  }
 ],
 "metadata": {
  "kernelspec": {
   "display_name": "Python 3.9.15 ('test')",
   "language": "python",
   "name": "python3"
  },
  "language_info": {
   "codemirror_mode": {
    "name": "ipython",
    "version": 3
   },
   "file_extension": ".py",
   "mimetype": "text/x-python",
   "name": "python",
   "nbconvert_exporter": "python",
   "pygments_lexer": "ipython3",
   "version": "3.9.15"
  },
  "orig_nbformat": 4,
  "vscode": {
   "interpreter": {
    "hash": "0ff842492d3b27893a4a77d7bd2f4a30fac711420d42d094c025bdf6b54a0b49"
   }
  }
 },
 "nbformat": 4,
 "nbformat_minor": 2
}
